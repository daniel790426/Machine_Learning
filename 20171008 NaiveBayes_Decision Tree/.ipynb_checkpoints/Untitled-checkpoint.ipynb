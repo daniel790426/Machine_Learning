{
 "cells": [
  {
   "cell_type": "markdown",
   "metadata": {},
   "source": [
    "# Naive Bayes\n",
    "---"
   ]
  },
  {
   "cell_type": "markdown",
   "metadata": {},
   "source": [
    "## Bayes 理論"
   ]
  },
  {
   "cell_type": "markdown",
   "metadata": {},
   "source": [
    "這邊是貝氏定理的數學表達式<BR>\n",
    " ### $ \\displaystyle P(A|B)= \\frac {P(B|A)*P(A)}{P(B)}$ <BR>\n",
    " 在這個章節中，作者舉了一個簡單的例子：<br>\n",
    " ### <span style=\"color:red\">情境說明</span><BR>\n",
    " 在一個生產板手的工廠中，有兩台機器負責生產板手，有一天把兩台機器的生產的板手混成一堆，發現裡面有一些不良的板手，而目前已知的條件有：<br>\n",
    " 機器1 每個小時可以生產30支板手。<br>\n",
    " 機器2 每個小時可以生產20支板手。<br> \n",
    " 整體的不良率為 1%，並且機器1與機器2生產的不良品分別佔全部的50%。<br>\n",
    " <span style=\"color:blue\">請問</span>：從機器2生產的板手為不良品的機率為何?<hr>"
   ]
  },
  {
   "attachments": {},
   "cell_type": "markdown",
   "metadata": {},
   "source": [
    "將上面的資訊轉換為數學表示：<br>\n",
    "兩台機器每個小時總共可以生產 20+30=50 支板手<br>\n",
    "所以抽到機器1生產的板手，機率為：$ \\displaystyle P(Mach1)=\\frac{30}{50}= 0.6 $<br>\n",
    "\n",
    "抽到機器2生產的板手，機率為：$ \\displaystyle P(Mach2)=\\frac{20}{50}= 0.4 $<br>\n",
    "\n",
    "抽到不良品的機率為：$ P(Defect)=0.01 $<br>\n",
    "\n",
    "不良品為機器1的機率為：$ P(Mach1| Defect)=0.5$ <br>\n",
    "\n",
    "不良品為機器1的機率為：$ P(Mach2| Defect)=0.5$ <br>\n",
    "\n",
    "要求解機器2中為不良品的機率為： <span style=\"color:red\">$P(Defect|Mach2) = $</span> ?<hr>\n",
    " ### $ \\displaystyle P(Defect|Mach2)= \\frac {P(Mach2| Defect)*P(Defect)}{P(Mach2)}= \\frac {0.5*0.01}{0.4}=0.0125=1.25$%$ $ <BR>\n"
   ]
  },
  {
   "cell_type": "code",
   "execution_count": null,
   "metadata": {
    "collapsed": true
   },
   "outputs": [],
   "source": []
  }
 ],
 "metadata": {
  "kernelspec": {
   "display_name": "Python 3",
   "language": "python",
   "name": "python3"
  },
  "language_info": {
   "codemirror_mode": {
    "name": "ipython",
    "version": 3
   },
   "file_extension": ".py",
   "mimetype": "text/x-python",
   "name": "python",
   "nbconvert_exporter": "python",
   "pygments_lexer": "ipython3",
   "version": "3.6.1"
  }
 },
 "nbformat": 4,
 "nbformat_minor": 2
}

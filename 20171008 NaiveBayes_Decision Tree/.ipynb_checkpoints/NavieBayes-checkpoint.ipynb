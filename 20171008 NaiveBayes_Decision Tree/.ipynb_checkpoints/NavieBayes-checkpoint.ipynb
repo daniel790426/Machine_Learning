{
 "cells": [
  {
   "cell_type": "markdown",
   "metadata": {},
   "source": [
    "# Naive Bayes\n",
    "---"
   ]
  },
  {
   "cell_type": "markdown",
   "metadata": {},
   "source": [
    "## Bayes 理論"
   ]
  },
  {
   "cell_type": "markdown",
   "metadata": {},
   "source": [
    "這邊是貝氏定理的數學表達式<BR>\n",
    " ### $ \\displaystyle P(A|B)= \\frac {P(B|A)*P(A)}{P(B)}$ <BR>\n",
    " 在這個章節中，作者舉了一個簡單的例子：<br>\n",
    " ### <span style=\"color:red\">情境說明</span><BR>\n",
    " 在一個生產板手的工廠中，有兩台機器負責生產板手，有一天把兩台機器的生產的板手混成一堆，發現裡面有一些不良的板手，而目前已知的條件有：<br>\n",
    " 機器1 每個小時可以生產30支板手。<br>\n",
    " 機器2 每個小時可以生產20支板手。<br> \n",
    " 整體的不良率為 1%，並且機器1與機器2生產的不良品分別佔全部的50%。<br>\n",
    " <span style=\"color:blue\">請問</span>：從機器2生產的板手為不良品的機率為何?<hr>"
   ]
  },
  {
   "cell_type": "markdown",
   "metadata": {},
   "source": [
    "將上面的資訊轉換為數學表示：<br>\n",
    "兩台機器每個小時總共可以生產 20+30=50 支板手<br>\n",
    "所以抽到機器1生產的板手，機率為：$ \\displaystyle P(Mach1)=\\frac{30}{50}= 0.6 $<br>\n",
    "\n",
    "抽到機器2生產的板手，機率為：$ \\displaystyle P(Mach2)=\\frac{20}{50}= 0.4 $<br>\n",
    "\n",
    "抽到不良品的機率為：$ P(Defect)=0.01 $<br>\n",
    "\n",
    "不良品為機器1的機率為：$ P(Mach1| Defect)=0.5$ <br>\n",
    "\n",
    "不良品為機器1的機率為：$ P(Mach2| Defect)=0.5$ <br>\n",
    "\n",
    "要求解機器2中為不良品的機率為： <span style=\"color:red\">$P(Defect|Mach2) = $</span> ?<hr>\n",
    " ### $ \\displaystyle P(Defect|Mach2)= \\frac {P(Mach2| Defect)*P(Defect)}{P(Mach2)}= \\frac {0.5*0.01}{0.4}=0.0125=1.25$%  <BR>\n",
    " \n",
    "接著作者用了比較直觀的方式呈現，帶入實際的數值：<br>\n",
    "假設工廠總共生產了1000支板手，\n",
    "那因為 機器1 每個小時可以生產30支板手。<br>\n",
    "機器2 每個小時可以生產20支板手，生產來自機器2的就是：$\\displaystyle \\frac{1000}{(20+30)}*20=20*20=400$<br>\n",
    "而整體的不良率為 1% ： $1000*0.01=10$<br>\n",
    "不良品中來自機器2的機率為50%：$10*0.5=5$<br>\n",
    "所以機器2中為不良品的機率為：$\\displaystyle \\frac{5}{400}=0.0125=1.25$%<br>\n",
    "其實和上面的例子是一樣的<br>\n",
    " ### $ \\displaystyle P(Defect|Mach2)= \\frac {P(Mach2| Defect)*P(Defect)}{P(Mach2)}= \\frac {0.5*0.01*1000}{0.4*1000}=1.25$ %<BR>\n",
    "接下來作者提了一個疑問，為什麼不直接去計算來自機器2有缺陷的板手去除以機器2呢?<br>\n",
    "第一：耗時，因為你需要一個一個去判斷是好是壞。<br>\n",
    "第二：當遇到破壞性實驗沒辦法將全部的東西都拿下去做實驗。<br>(PS：何為破壞性實驗呢?例如：測驗燈泡的使用壽命，就需要將燈泡使用到壞掉。)<Hr>\n",
    "並且作者在這邊列了一個練習題：求解機器1中為不良品的機率為： <span style=\"color:red\">$P(Defect|Mach1) = $</span> ?<br>\n",
    " ### $ \\displaystyle P(Defect|Mach1)= \\frac {P(Mach1| Defect)*P(Defect)}{P(Mach1)}= \\frac {0.5*0.01}{0.6}=0.0083=0.83$ % <BR>\n",
    "\n",
    "\n",
    "<hr>"
   ]
  },
  {
   "cell_type": "markdown",
   "metadata": {
    "collapsed": true
   },
   "source": [
    "## Navie Bayes"
   ]
  },
  {
   "cell_type": "markdown",
   "metadata": {},
   "source": [
    "這是一般兩個$X$變數的分類問題的例子：\n",
    "![](images/NaiveBayes1.PNG)"
   ]
  },
  {
   "cell_type": "markdown",
   "metadata": {},
   "source": [
    "接下來作者舉了一個例子讓我們更容易理解，並且將這個例子拆成幾個步驟來呈現：\n",
    "![](images/NaiveBayes2.PNG)\n",
    "這是一個給定兩個特徵：年齡(Age)、薪水(Salary)，去判斷是走路還是開車代步的例子，紅色的點是走路的人，綠色的點是開車代步的人，而灰色的點則是新加入的一個資料，要預測他是走路還是開車。<br>\n",
    "首先會先將整個流程分成三個大步驟：<br>\n",
    "(1)&ensp;列出根據給定的X的特徵下走路機率的數學表達式。<BR>\n",
    "### $ \\displaystyle P(Walks|X)= \\frac {P(X| Walks)*P(Walks)}{P(X)}$<br>\n",
    "(2)&ensp;列出根據給定的X的特徵下開車代步機率的數學表達式。<BR>\n",
    "### $ \\displaystyle P(Drives|X)= \\frac {P(X| Drives)*P(Drives)}{P(X)}$<br>\n",
    "(3)&ensp;比較這筆資料在兩個分類下面分別的機率來判斷應該屬於那個分類。<BR>\n",
    "### $ P(Walks|X)$ &ensp; $VS$ &ensp; $P(Drives|X)$<HR>\n",
    "#### 第一個步驟：求出$P(Walks|X)$，原本的數學表達式拆成四個部分：<br>\n",
    "$1.$&ensp;$Prior Probability$&ensp;(先驗機率或事前機率)<br>\n",
    "$2.$&ensp;$Marginal Likelihood$ &ensp; (邊際概似)<br>\n",
    "$3.$&ensp;$Likelihood$&ensp;(概似)<br>\n",
    "$4.$&ensp;$Posterior Probability$&ensp;(先驗機率或事前機率)<br>\n",
    "![](images/NaiveBayes3.PNG)<HR>\n"
   ]
  },
  {
   "cell_type": "markdown",
   "metadata": {
    "collapsed": true
   },
   "source": [
    "#### $1.Prior Probability$(先驗機率或事前機率)<br>\n",
    "計算走路的人占全部的人的比例，也就是在整個資料集中抽到走路的機率。<br>\n",
    "$\\displaystyle P(Walks)=\\frac{Number\\ Of \\ Walkers}{Total \\ Observations}=\\frac{10}{30}$<br>\n",
    "#### $2.Marginal Likelihood$ (邊際概似)<br>\n",
    "<span style=\"color:red\">補充</span>：<br>\n",
    " ### $ \\displaystyle P(A_k|B)= \\frac {P(B|A_k)*P(A_k)}{P(B)}$ <BR>\n",
    "一般的條件機率的$P(X)$是已知的(條件的機率發生在待決定的事件之\n",
    "前)，但貝氏定理中的$P(B)$是需要透過$P(A_i)$與$P(B\\cap A_i)=P(A_i)*P(B|A_i)$，利用全機率公式$P(B)=\\sum_{i=1}^{n} P(A_i)*P(B|A_i)$求出。 <BR>\n"
   ]
  },
  {
   "cell_type": "code",
   "execution_count": null,
   "metadata": {
    "collapsed": true
   },
   "outputs": [],
   "source": []
  }
 ],
 "metadata": {
  "kernelspec": {
   "display_name": "Python 3",
   "language": "python",
   "name": "python3"
  },
  "language_info": {
   "codemirror_mode": {
    "name": "ipython",
    "version": 3
   },
   "file_extension": ".py",
   "mimetype": "text/x-python",
   "name": "python",
   "nbconvert_exporter": "python",
   "pygments_lexer": "ipython3",
   "version": "3.6.1"
  }
 },
 "nbformat": 4,
 "nbformat_minor": 2
}

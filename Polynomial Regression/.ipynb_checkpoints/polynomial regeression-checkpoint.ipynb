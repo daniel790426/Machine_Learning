{
 "cells": [
  {
   "cell_type": "markdown",
   "metadata": {},
   "source": [
    "# Polynomial Regression <hr>\n",
    "## Polynomial Regression 理論概述"
   ]
  },
  {
   "cell_type": "markdown",
   "metadata": {},
   "source": [
    "### Regression Equation"
   ]
  },
  {
   "cell_type": "markdown",
   "metadata": {},
   "source": [
    "![](回歸方程式.PNG)"
   ]
  },
  {
   "cell_type": "markdown",
   "metadata": {},
   "source": [
    "這邊主要在介紹幾種回歸的本身的差異：<br>\n",
    "1.簡單線性回歸 ：截距項+單一變數 $X_1$ 的線性方程式。<br>\n",
    "2.複回歸      ：截距項+多個變數 $X_1$~$X_n$的線性方程式。<br>\n",
    "3.多項式回歸   ：截距項+單一變數 $X_1^n$的非線性方程式，屬於複回歸的一種特例。<hr>"
   ]
  },
  {
   "cell_type": "markdown",
   "metadata": {},
   "source": [
    "### Simple Linear Regression Plot"
   ]
  },
  {
   "cell_type": "markdown",
   "metadata": {
    "collapsed": true
   },
   "source": [
    "![](plot_simple.PNG)"
   ]
  },
  {
   "cell_type": "markdown",
   "metadata": {
    "collapsed": true
   },
   "source": [
    "### Ploynomial Regression Plot"
   ]
  },
  {
   "cell_type": "markdown",
   "metadata": {},
   "source": [
    "![](plot_ploynomial.PNG)"
   ]
  },
  {
   "cell_type": "markdown",
   "metadata": {},
   "source": [
    "### why <span style=\"color:blue\">\"Linear\"</span>?\n",
    "通常在判斷是否為線性方程式時，不是在觀察$X$變數是否為線性，而是去觀察它的係數<span style=\"color:red\">$b_n$</span>是否可以用線性組合來表達，可不可以再加上$X$的值去預測出$Y$，所以線性還非線性是去看係數，當係數相對於$Y$呈線性關係，即稱線性模型。\n",
    "***"
   ]
  },
  {
   "cell_type": "markdown",
   "metadata": {},
   "source": [
    "## Python範例"
   ]
  },
  {
   "cell_type": "markdown",
   "metadata": {},
   "source": [
    "### 分成幾個部分：<br>\n",
    " 1.資料集說明。<br> \n",
    " 2.資料預處理。<br>\n",
    " 3.建立預測模型。<br>\n",
    " 4.圖形比較。 <br>\n",
    " 5.預測比較。<hr>"
   ]
  },
  {
   "cell_type": "markdown",
   "metadata": {},
   "source": [
    "### <span style=\"color:blue\">1.資料集說明 </span>"
   ]
  },
  {
   "cell_type": "markdown",
   "metadata": {},
   "source": [
    "![](dataset.PNG)"
   ]
  },
  {
   "cell_type": "markdown",
   "metadata": {},
   "source": [
    "<span style=\"color:blue\">情境描述</span> ：有一個公司的人資團隊為了要雇用新員工，在面試的過程中談論到預期薪資，面試者說他過去有20年以上的工作經驗，前一份工作年薪16萬，所以預期年薪不低於原薪水，而人資向面試者前公司索取他們各職等的年薪，人資根據面試者在此的經歷(<span style=\"color:blue\">Region Manager</span>兩年 ，且平均四年可以往上升一階，所以約在<span style=\"color:red\">6.5</span> 的職等上)，去判斷他說的年薪真假與否。<br>\n",
    "\n",
    "此資料集共有三個欄位：職位(Position)、職等(Level)、年薪(Salary)。而職位和職等是屬於相同的概念，所以我們只取<span style=\"color:red\">職等(Level)</span>、<span style=\"color:red\">年薪(Salary)</span>兩個欄位，用 $X$ 職等(Level) 對 $Y$ 年薪(Salary)進行預測。<Hr>\n"
   ]
  },
  {
   "cell_type": "markdown",
   "metadata": {},
   "source": [
    "### <span style=\"color:blue\">2.資料預處理 </span>"
   ]
  },
  {
   "cell_type": "markdown",
   "metadata": {},
   "source": [
    "#### 載入套件"
   ]
  },
  {
   "cell_type": "code",
   "execution_count": 3,
   "metadata": {
    "collapsed": true
   },
   "outputs": [],
   "source": [
    "#Polynomial Regression\n",
    "#importing the libraries\n",
    "import numpy as np\n",
    "import matplotlib.pyplot as plt\n",
    "import pandas as pd\n",
    "import os"
   ]
  },
  {
   "cell_type": "markdown",
   "metadata": {},
   "source": [
    "#### 修改當下檔案開啟目錄"
   ]
  },
  {
   "cell_type": "code",
   "execution_count": 4,
   "metadata": {
    "collapsed": true
   },
   "outputs": [],
   "source": [
    "os.chdir(\"/Users/aa006/Desktop/Machine Learning A-Z Template Folder/Part 2 - Regression/Section 6 - Polynomial Regression\")"
   ]
  },
  {
   "cell_type": "markdown",
   "metadata": {},
   "source": [
    "#### 載入資料"
   ]
  },
  {
   "cell_type": "code",
   "execution_count": 5,
   "metadata": {
    "collapsed": true
   },
   "outputs": [],
   "source": [
    "#Importing the dataset\n",
    "dataset  =pd.read_csv('Position_Salaries.csv')\n",
    "X =dataset.iloc[:,1:2].values\n",
    "y =dataset.iloc[:,2].values"
   ]
  },
  {
   "cell_type": "markdown",
   "metadata": {},
   "source": [
    "因為資料筆數過少(10筆)，所以作者在這邊沒有做 Data Split 。<br>\n",
    "在這裡不做Data Split 有兩個原因，一個是資料筆數太少，二是我們需要很精確的預測結果，因為要用來談薪水，所以需要盡可能多的資訊。"
   ]
  },
  {
   "cell_type": "markdown",
   "metadata": {},
   "source": [
    "### <span style=\"color:blue\">3.建立預測模型</span> "
   ]
  },
  {
   "cell_type": "markdown",
   "metadata": {},
   "source": [
    "因為X變數只有一個，所以作者在這邊分別利用簡單線性回歸VS多項式回歸進行預測模型並且比較結果。"
   ]
  },
  {
   "cell_type": "markdown",
   "metadata": {},
   "source": [
    "##### 簡單線性回歸"
   ]
  },
  {
   "cell_type": "code",
   "execution_count": 6,
   "metadata": {},
   "outputs": [
    {
     "data": {
      "text/plain": [
       "LinearRegression(copy_X=True, fit_intercept=True, n_jobs=1, normalize=False)"
      ]
     },
     "execution_count": 6,
     "metadata": {},
     "output_type": "execute_result"
    }
   ],
   "source": [
    "#Fitting Linear Regression to the dataset\n",
    "from sklearn.linear_model import LinearRegression\n",
    "lin_reg =LinearRegression()\n",
    "lin_reg.fit(X,y)"
   ]
  },
  {
   "cell_type": "markdown",
   "metadata": {},
   "source": [
    "#####  多項式回歸"
   ]
  },
  {
   "cell_type": "code",
   "execution_count": 7,
   "metadata": {},
   "outputs": [
    {
     "data": {
      "text/plain": [
       "LinearRegression(copy_X=True, fit_intercept=True, n_jobs=1, normalize=False)"
      ]
     },
     "execution_count": 7,
     "metadata": {},
     "output_type": "execute_result"
    }
   ],
   "source": [
    "#Fitting polynomial Regression to the dataset\n",
    "from sklearn.preprocessing import PolynomialFeatures\n",
    "poly_reg =PolynomialFeatures(degree =2)\n",
    "X_poly =poly_reg.fit_transform(X)\n",
    "lin_reg2 =LinearRegression()\n",
    "lin_reg2.fit(X_poly,y)"
   ]
  },
  {
   "cell_type": "markdown",
   "metadata": {},
   "source": [
    "為了比較一般線性和多項式回歸的差異，作者在這邊建立了兩個方程式，一個簡單線性回歸取名為lin_reg，一個多項式回歸取名為poly_reg。<br>\n",
    "多項式回歸在執行前要利用預處理的library將多項式的class PolynomialFeatures讀入。<br>\n",
    "這邊要寫清楚一點 待補!!!!"
   ]
  },
  {
   "cell_type": "markdown",
   "metadata": {},
   "source": [
    "### <span style=\"color:blue\">4.圖形比較</span> "
   ]
  },
  {
   "cell_type": "markdown",
   "metadata": {},
   "source": [
    "散佈圖$+$配適線。比較 前公司提供的年薪 與 回歸線的配適。<br>\n",
    "##### 簡單線性回歸"
   ]
  },
  {
   "cell_type": "code",
   "execution_count": 10,
   "metadata": {},
   "outputs": [
    {
     "data": {
      "image/png": "[encoded data removed]",
      "text/plain": [
       "<matplotlib.figure.Figure at 0x1bc84c96080>"
      ]
     },
     "metadata": {},
     "output_type": "display_data"
    }
   ],
   "source": [
    "#visualising the linear regression results\n",
    "plt.scatter (X,y,color ='red')\n",
    "plt.plot(X,lin_reg.predict(X),color ='blue')\n",
    "plt.title('Truth or Bluff (Linear Regression)')\n",
    "plt.xlabel('Position level')\n",
    "plt.ylabel('Salary')\n",
    "plt.show()"
   ]
  },
  {
   "cell_type": "markdown",
   "metadata": {},
   "source": [
    "show 是將圖準備好並顯示出來。"
   ]
  },
  {
   "cell_type": "markdown",
   "metadata": {},
   "source": [
    "#####  多項式回歸 <br>\n",
    "<span style=\"color:red\">平方</span> "
   ]
  },
  {
   "cell_type": "code",
   "execution_count": 12,
   "metadata": {
    "scrolled": true
   },
   "outputs": [
    {
     "data": {
      "image/png": "[encoded data removed]",
      "text/plain": [
       "<matplotlib.figure.Figure at 0x1bc84c4ccf8>"
      ]
     },
     "metadata": {},
     "output_type": "display_data"
    }
   ],
   "source": [
    "#visualising the polynomial regression results\n",
    "plt.scatter (X,y,color ='red')\n",
    "plt.plot(X,lin_reg2.predict(poly_reg.fit_transform(X)),color ='blue')\n",
    "plt.title('Truth or Bluff (Polynomial Regression)')\n",
    "plt.xlabel('Position level')\n",
    "plt.ylabel('Salary')\n",
    "plt.show()"
   ]
  },
  {
   "cell_type": "markdown",
   "metadata": {},
   "source": [
    "作者提到在這裡要注意的是放預測年薪時，不能直接放X_poly，因為他是一個已經實際存在的特徵矩陣，但我們要可以用來替換任一個新的資料。<br>\n",
    "***\n",
    "<span style=\"color:red\">三次方</span> "
   ]
  },
  {
   "cell_type": "code",
   "execution_count": 20,
   "metadata": {},
   "outputs": [
    {
     "data": {
      "image/png": "[encoded data removed]",
      "text/plain": [
       "<matplotlib.figure.Figure at 0x1bc84e6c3c8>"
      ]
     },
     "metadata": {},
     "output_type": "display_data"
    }
   ],
   "source": [
    "from sklearn.preprocessing import PolynomialFeatures\n",
    "poly_reg =PolynomialFeatures(degree =3)\n",
    "X_poly =poly_reg.fit_transform(X)\n",
    "lin_reg3 =LinearRegression()\n",
    "lin_reg3.fit(X_poly,y)\n",
    "#visualising the polynomial regression results\n",
    "plt.scatter (X,y,color ='red')\n",
    "plt.plot(X,lin_reg3.predict(poly_reg.fit_transform(X)),color ='blue')\n",
    "plt.title('Truth or Bluff (Polynomial Regression)')\n",
    "plt.xlabel('Position level')\n",
    "plt.ylabel('Salary')\n",
    "plt.show()"
   ]
  },
  {
   "cell_type": "markdown",
   "metadata": {},
   "source": [
    "***\n",
    "<span style=\"color:red\">四次方</span> "
   ]
  },
  {
   "cell_type": "code",
   "execution_count": 21,
   "metadata": {},
   "outputs": [
    {
     "data": {
      "image/png": "[encoded data removed]",
      "text/plain": [
       "<matplotlib.figure.Figure at 0x1bc861787f0>"
      ]
     },
     "metadata": {},
     "output_type": "display_data"
    }
   ],
   "source": [
    "#Fitting polynomial Regression to the dataset\n",
    "from sklearn.preprocessing import PolynomialFeatures\n",
    "poly_reg =PolynomialFeatures(degree =4)\n",
    "X_poly =poly_reg.fit_transform(X)\n",
    "lin_reg4 =LinearRegression()\n",
    "lin_reg4.fit(X_poly,y)\n",
    "#visualising the polynomial regression results\n",
    "plt.scatter (X,y,color ='red')\n",
    "plt.plot(X,lin_reg4.predict(poly_reg.fit_transform(X)),color ='blue')\n",
    "plt.title('Truth or Bluff (Polynomial Regression)')\n",
    "plt.xlabel('Position level')\n",
    "plt.ylabel('Salary')\n",
    "plt.show()"
   ]
  },
  {
   "cell_type": "code",
   "execution_count": null,
   "metadata": {
    "collapsed": true
   },
   "outputs": [],
   "source": [
    "arange是在給定的區間內進行等距切割，但是做完會是向量，所以要用reshape轉換成矩陣，\n",
    "是可以讓配適線更加平滑，因為他在畫線是一點接一點，而不是在X軸上顯示更多點，因為她是寫再配適線的裡面"
   ]
  },
  {
   "cell_type": "code",
   "execution_count": 24,
   "metadata": {},
   "outputs": [
    {
     "data": {
      "image/png": "[encoded data removed]",
      "text/plain": [
       "<matplotlib.figure.Figure at 0x1bc861787b8>"
      ]
     },
     "metadata": {},
     "output_type": "display_data"
    }
   ],
   "source": [
    "#Fitting polynomial Regression to the dataset\n",
    "from sklearn.preprocessing import PolynomialFeatures\n",
    "poly_reg =PolynomialFeatures(degree =4)\n",
    "X_poly =poly_reg.fit_transform(X)\n",
    "lin_reg5 =LinearRegression()\n",
    "lin_reg5.fit(X_poly,y)\n",
    "#visualising the polynomial regression results\n",
    "X_grid=np.arange(min(X),max(X),0.1)\n",
    "X_grid=X_grid.reshape((len(X_grid),1))\n",
    "plt.scatter (X,y,color ='red')\n",
    "plt.plot(X_grid,lin_reg5.predict(poly_reg.fit_transform(X_grid)),color ='blue')\n",
    "plt.title('Truth or Bluff (Polynomial Regression)')\n",
    "plt.xlabel('Position level')\n",
    "plt.ylabel('Salary')\n",
    "plt.show()"
   ]
  },
  {
   "cell_type": "markdown",
   "metadata": {},
   "source": [
    "***\n",
    "### <span style=\"color:blue\">5.預測比較</span> "
   ]
  },
  {
   "cell_type": "markdown",
   "metadata": {},
   "source": [
    "#####  簡單線性回歸 "
   ]
  },
  {
   "cell_type": "code",
   "execution_count": 27,
   "metadata": {},
   "outputs": [
    {
     "data": {
      "text/plain": [
       "array([ 330378.78787879])"
      ]
     },
     "execution_count": 27,
     "metadata": {},
     "output_type": "execute_result"
    }
   ],
   "source": [
    "#predicting a new result with linear regression\n",
    "lin_reg.predict(6.5)"
   ]
  },
  {
   "cell_type": "markdown",
   "metadata": {},
   "source": [
    "#####  多項式回歸 "
   ]
  },
  {
   "cell_type": "code",
   "execution_count": 28,
   "metadata": {},
   "outputs": [
    {
     "data": {
      "text/plain": [
       "array([ 158862.45265153])"
      ]
     },
     "execution_count": 28,
     "metadata": {},
     "output_type": "execute_result"
    }
   ],
   "source": [
    "#predicting a new result with linear regression\n",
    "lin_reg4.predict(poly_reg.fit_transform(6.5))"
   ]
  },
  {
   "cell_type": "code",
   "execution_count": null,
   "metadata": {
    "collapsed": true
   },
   "outputs": [],
   "source": []
  }
 ],
 "metadata": {
  "kernelspec": {
   "display_name": "Python 3",
   "language": "python",
   "name": "python3"
  },
  "language_info": {
   "codemirror_mode": {
    "name": "ipython",
    "version": 3
   },
   "file_extension": ".py",
   "mimetype": "text/x-python",
   "name": "python",
   "nbconvert_exporter": "python",
   "pygments_lexer": "ipython3",
   "version": "3.6.1"
  }
 },
 "nbformat": 4,
 "nbformat_minor": 2
}
